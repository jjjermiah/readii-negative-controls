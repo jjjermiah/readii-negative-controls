{
 "cells": [
  {
   "cell_type": "code",
   "execution_count": null,
   "id": "a51e569d",
   "metadata": {},
   "outputs": [],
   "source": [
    "from pathlib import Path\n",
    "import pandas as pd\n"
   ]
  },
  {
   "cell_type": "code",
   "execution_count": null,
   "id": "11a2499e",
   "metadata": {},
   "outputs": [],
   "source": [
    "# start coding here\n",
    "print(f\"{snakemake.input=}\")\n",
    "print(f\"{snakemake.output=}\")\n",
    "print(f\"{snakemake.wildcards=}\")\n",
    "print(f\"{snakemake.params=}\")"
   ]
  },
  {
   "cell_type": "code",
   "execution_count": null,
   "id": "0d54921c",
   "metadata": {},
   "outputs": [],
   "source": []
  },
  {
   "cell_type": "code",
   "execution_count": null,
   "id": "89e8e282",
   "metadata": {},
   "outputs": [],
   "source": [
    "fmcib_results= [Path(f) for f in snakemake.input]\n",
    "\n",
    "# read the data\n",
    "dfs = [pd.read_csv(f) for f in fmcib_results]\n",
    "print(dfs[0].head())\n",
    "\n",
    "# merge the data\n",
    "df = pd.concat(dfs, axis=0)\n"
   ]
  },
  {
   "cell_type": "code",
   "execution_count": null,
   "id": "71b8f3c9",
   "metadata": {},
   "outputs": [],
   "source": [
    "for (subject_id, crop_type, image_id), subset_df in df.groupby([\"SubjectID\", \"CropType\", \"ImageID\"]):\n",
    "    print(f\"{subject_id=}, {crop_type=}, {image_id=}\")"
   ]
  },
  {
   "cell_type": "code",
   "execution_count": null,
   "id": "d71b985d",
   "metadata": {},
   "outputs": [],
   "source": []
  }
 ],
 "metadata": {
  "language_info": {
   "name": "python"
  }
 },
 "nbformat": 4,
 "nbformat_minor": 5
}
